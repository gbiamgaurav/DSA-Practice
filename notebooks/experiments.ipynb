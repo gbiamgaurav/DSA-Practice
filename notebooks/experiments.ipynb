{
 "cells": [
  {
   "cell_type": "code",
   "execution_count": 1,
   "id": "b4055ef7",
   "metadata": {},
   "outputs": [
    {
     "name": "stdout",
     "output_type": "stream",
     "text": [
      "Hello\\tWorld\n"
     ]
    }
   ],
   "source": [
    "print(\"Hello\\\\tWorld\")"
   ]
  },
  {
   "cell_type": "code",
   "execution_count": 2,
   "id": "6ca452a6",
   "metadata": {},
   "outputs": [
    {
     "name": "stdout",
     "output_type": "stream",
     "text": [
      "C:\\\\new\\temp\\text.doc\n"
     ]
    }
   ],
   "source": [
    "print(r\"C:\\\\new\\temp\\text.doc\")"
   ]
  },
  {
   "cell_type": "code",
   "execution_count": 1,
   "metadata": {},
   "outputs": [
    {
     "name": "stdout",
     "output_type": "stream",
     "text": [
      "5\n"
     ]
    }
   ],
   "source": [
    "str = \"   Hello \"\n",
    "new_str = str.strip() \n",
    "print(len(new_str))"
   ]
  },
  {
   "cell_type": "code",
   "execution_count": 4,
   "id": "82333237",
   "metadata": {},
   "outputs": [
    {
     "name": "stdout",
     "output_type": "stream",
     "text": [
      "11\n"
     ]
    }
   ],
   "source": [
    "str = \"The words present in this string are separated by white space.\"\n",
    "word_len = len(str.split())\n",
    "print(word_len)"
   ]
  },
  {
   "cell_type": "code",
   "execution_count": null,
   "id": "c740f887",
   "metadata": {},
   "outputs": [],
   "source": []
  },
  {
   "cell_type": "code",
   "execution_count": null,
   "id": "a8a50f52",
   "metadata": {},
   "outputs": [],
   "source": []
  },
  {
   "cell_type": "code",
   "execution_count": null,
   "id": "29b3d868",
   "metadata": {},
   "outputs": [],
   "source": []
  }
 ],
 "metadata": {
  "kernelspec": {
   "display_name": "dsa",
   "language": "python",
   "name": "python3"
  },
  "language_info": {
   "codemirror_mode": {
    "name": "ipython",
    "version": 3
   },
   "file_extension": ".py",
   "mimetype": "text/x-python",
   "name": "python",
   "nbconvert_exporter": "python",
   "pygments_lexer": "ipython3",
   "version": "3.12.11"
  }
 },
 "nbformat": 4,
 "nbformat_minor": 5
}
